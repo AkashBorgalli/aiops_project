{
 "cells": [
  {
   "cell_type": "code",
   "execution_count": 1,
   "id": "9a17f843-eddf-408a-bdbd-95d57fbdfa5a",
   "metadata": {},
   "outputs": [
    {
     "name": "stdout",
     "output_type": "stream",
     "text": [
      "aiops_pipeline_artifact\n",
      "aiops_pipeline_metadata\n",
      "data\n",
      "main.py\n",
      "notebook\n",
      "README.md\n",
      "requirements.txt\n",
      "Untitled.ipynb\n",
      "venv\n"
     ]
    }
   ],
   "source": [
    "!ls"
   ]
  },
  {
   "cell_type": "code",
   "execution_count": 2,
   "id": "48354fd9-c5d9-4d26-ac19-c2e04729e6b5",
   "metadata": {},
   "outputs": [
    {
     "name": "stdout",
     "output_type": "stream",
     "text": [
      "data.csv\n"
     ]
    }
   ],
   "source": [
    "!ls data"
   ]
  },
  {
   "cell_type": "code",
   "execution_count": 3,
   "id": "9b67454c-36c0-4f88-963d-dad7399c678d",
   "metadata": {},
   "outputs": [],
   "source": [
    "import os"
   ]
  },
  {
   "cell_type": "code",
   "execution_count": 7,
   "id": "0bbca02c-1ddf-4b47-a079-488895bae1a3",
   "metadata": {},
   "outputs": [],
   "source": [
    "csv_file_path = os.path.join(\"data\",\"data.csv\")"
   ]
  },
  {
   "cell_type": "code",
   "execution_count": 5,
   "id": "102b07e1-0cc0-496a-a885-88f1b0165d9e",
   "metadata": {},
   "outputs": [
    {
     "data": {
      "text/plain": [
       "True"
      ]
     },
     "execution_count": 5,
     "metadata": {},
     "output_type": "execute_result"
    }
   ],
   "source": [
    "os.path.exists(csv_file_path)"
   ]
  },
  {
   "cell_type": "code",
   "execution_count": 6,
   "id": "58e28a7e-fea4-4bb3-95bc-785263671d08",
   "metadata": {},
   "outputs": [
    {
     "data": {
      "text/plain": [
       "'data\\\\data.csv'"
      ]
     },
     "execution_count": 6,
     "metadata": {},
     "output_type": "execute_result"
    }
   ],
   "source": [
    "csv_file_path"
   ]
  },
  {
   "cell_type": "code",
   "execution_count": 7,
   "id": "bb447281-9a3b-48a5-aac5-e0e154934e0b",
   "metadata": {},
   "outputs": [],
   "source": [
    "import csv"
   ]
  },
  {
   "cell_type": "code",
   "execution_count": 12,
   "id": "861990a5-87b1-4084-ad2d-cdf0a9b6b50f",
   "metadata": {},
   "outputs": [],
   "source": [
    "import tensorflow as tf"
   ]
  },
  {
   "cell_type": "code",
   "execution_count": 8,
   "id": "0072c57f-6e0f-4042-8736-2cd9975e05e4",
   "metadata": {},
   "outputs": [
    {
     "name": "stdout",
     "output_type": "stream",
     "text": [
      "OrderedDict([('pickup_community_area', '60'), ('fare', '27.05'), ('trip_start_month', '10'), ('trip_start_hour', '2'), ('trip_start_day', '3'), ('trip_start_timestamp', '1380593700'), ('pickup_latitude', '41.836150155'), ('pickup_longitude', '-87.648787952'), ('dropoff_latitude', ''), ('dropoff_longitude', ''), ('trip_miles', '12.6'), ('pickup_census_tract', ''), ('dropoff_census_tract', ''), ('payment_type', 'Cash'), ('company', 'Taxi Affiliation Services'), ('trip_seconds', '1380'), ('dropoff_community_area', ''), ('tips', '0.0')])\n"
     ]
    }
   ],
   "source": [
    "with open(csv_file_path) as csv_file:\n",
    "    reader =csv.DictReader(csv_file,delimiter=\",\",quotechar='\"')\n",
    "    for row in reader:\n",
    "        print(row)\n",
    "        break"
   ]
  },
  {
   "cell_type": "code",
   "execution_count": 9,
   "id": "c91451a9-78f5-4cb4-91eb-fb08681cf07f",
   "metadata": {},
   "outputs": [
    {
     "data": {
      "text/plain": [
       "OrderedDict([('pickup_community_area', '60'),\n",
       "             ('fare', '27.05'),\n",
       "             ('trip_start_month', '10'),\n",
       "             ('trip_start_hour', '2'),\n",
       "             ('trip_start_day', '3'),\n",
       "             ('trip_start_timestamp', '1380593700'),\n",
       "             ('pickup_latitude', '41.836150155'),\n",
       "             ('pickup_longitude', '-87.648787952'),\n",
       "             ('dropoff_latitude', ''),\n",
       "             ('dropoff_longitude', ''),\n",
       "             ('trip_miles', '12.6'),\n",
       "             ('pickup_census_tract', ''),\n",
       "             ('dropoff_census_tract', ''),\n",
       "             ('payment_type', 'Cash'),\n",
       "             ('company', 'Taxi Affiliation Services'),\n",
       "             ('trip_seconds', '1380'),\n",
       "             ('dropoff_community_area', ''),\n",
       "             ('tips', '0.0')])"
      ]
     },
     "execution_count": 9,
     "metadata": {},
     "output_type": "execute_result"
    }
   ],
   "source": [
    "row"
   ]
  },
  {
   "cell_type": "code",
   "execution_count": 10,
   "id": "0ee94937-4e66-4c03-97a6-bde79ea72834",
   "metadata": {},
   "outputs": [
    {
     "data": {
      "text/plain": [
       "'10'"
      ]
     },
     "execution_count": 10,
     "metadata": {},
     "output_type": "execute_result"
    }
   ],
   "source": [
    "row['trip_start_month']"
   ]
  },
  {
   "cell_type": "code",
   "execution_count": 14,
   "id": "a068e811-0fb7-4e12-b2f7-4cef60b77810",
   "metadata": {},
   "outputs": [
    {
     "data": {
      "text/plain": [
       "'D:\\\\aiops_project\\\\aiops_project\\\\tf_record_files'"
      ]
     },
     "execution_count": 14,
     "metadata": {},
     "output_type": "execute_result"
    }
   ],
   "source": [
    "tf_record_dir = os.path.join(os.getcwd(),\"tf_record_files\")\n",
    "tf_record_dir"
   ]
  },
  {
   "cell_type": "code",
   "execution_count": 24,
   "id": "70303e5d-e60e-4ee7-b9d1-4027204326a8",
   "metadata": {},
   "outputs": [],
   "source": [
    "## to create the directory\n",
    "os.makedirs(tf_record_dir,exist_ok=True)"
   ]
  },
  {
   "cell_type": "code",
   "execution_count": 17,
   "id": "b567f048-8ea5-4f98-b395-86511ed692ce",
   "metadata": {},
   "outputs": [],
   "source": [
    "tf_record_file_name =  os.path.join(tf_record_dir,'data.tfrecord')"
   ]
  },
  {
   "cell_type": "code",
   "execution_count": 19,
   "id": "8d85597f-fd94-4711-9fd2-0d132984e602",
   "metadata": {},
   "outputs": [],
   "source": [
    "## creates emty tf file\n",
    "tf_record_writer = tf.io.TFRecordWriter(tf_record_file_name)"
   ]
  },
  {
   "cell_type": "code",
   "execution_count": 50,
   "id": "8725a528-cb07-4879-a30d-d45cc217d3e0",
   "metadata": {},
   "outputs": [],
   "source": [
    "def _bytes_feature(value):\n",
    "    value=value.encode()\n",
    "    return tf.train.Feature(bytes_list=tf.train.BytesList(value=[value]))"
   ]
  },
  {
   "cell_type": "code",
   "execution_count": 51,
   "id": "446801d2-90e7-4cdd-bb45-213e6ea01cf1",
   "metadata": {},
   "outputs": [],
   "source": [
    "def _int64_feature(value):\n",
    "    return tf.train.Feature(int64_list=tf.train.Int64List(value=[value]))"
   ]
  },
  {
   "cell_type": "code",
   "execution_count": 56,
   "id": "255bc0fc-cb3e-4d47-8d0a-aad101611aea",
   "metadata": {},
   "outputs": [],
   "source": [
    "def _float_feature(value):\n",
    "    return tf.train.Feature(float_list=tf.train.FloatList(value=[value]))"
   ]
  },
  {
   "cell_type": "code",
   "execution_count": 26,
   "id": "76934889-80f6-4b63-a741-a11dcbcd601d",
   "metadata": {},
   "outputs": [
    {
     "data": {
      "text/plain": [
       "value: \"Akash\""
      ]
     },
     "execution_count": 26,
     "metadata": {},
     "output_type": "execute_result"
    }
   ],
   "source": [
    "_bytes_feature(value='Akash')"
   ]
  },
  {
   "cell_type": "code",
   "execution_count": 27,
   "id": "839e7e4c-2981-4840-9fb1-11170a5147f9",
   "metadata": {},
   "outputs": [
    {
     "data": {
      "text/plain": [
       "value: 45"
      ]
     },
     "execution_count": 27,
     "metadata": {},
     "output_type": "execute_result"
    }
   ],
   "source": [
    "_int64_feature(value=45)"
   ]
  },
  {
   "cell_type": "code",
   "execution_count": 28,
   "id": "b9de6d45-cd69-47d2-ac69-94d38338f559",
   "metadata": {},
   "outputs": [
    {
     "data": {
      "text/plain": [
       "value: 56.599998474121094"
      ]
     },
     "execution_count": 28,
     "metadata": {},
     "output_type": "execute_result"
    }
   ],
   "source": [
    "_float_feature(value=56.6)"
   ]
  },
  {
   "cell_type": "code",
   "execution_count": 30,
   "id": "526877f3-2889-4ee1-8d71-ec03449cb727",
   "metadata": {},
   "outputs": [
    {
     "data": {
      "text/plain": [
       "bytes_list {\n",
       "  value: \"Akash\"\n",
       "}"
      ]
     },
     "execution_count": 30,
     "metadata": {},
     "output_type": "execute_result"
    }
   ],
   "source": [
    "tf.train.Feature(bytes_list=_bytes_feature(\"Akash\"))"
   ]
  },
  {
   "cell_type": "code",
   "execution_count": 33,
   "id": "1cd07ea0-2a5c-453f-b5d6-6cb999bce7d8",
   "metadata": {},
   "outputs": [
    {
     "data": {
      "text/plain": [
       "{'name': bytes_list {\n",
       "   value: \"Akash\"\n",
       " }}"
      ]
     },
     "execution_count": 33,
     "metadata": {},
     "output_type": "execute_result"
    }
   ],
   "source": [
    "{\"name\": tf.train.Feature(bytes_list=_bytes_feature(\"Akash\"))}"
   ]
  },
  {
   "cell_type": "code",
   "execution_count": 35,
   "id": "9b11d139-84da-46e7-b059-8d7e136dad6a",
   "metadata": {},
   "outputs": [
    {
     "data": {
      "text/plain": [
       "feature {\n",
       "  key: \"name\"\n",
       "  value {\n",
       "    bytes_list {\n",
       "      value: \"Akash Borgalli\"\n",
       "    }\n",
       "  }\n",
       "}"
      ]
     },
     "execution_count": 35,
     "metadata": {},
     "output_type": "execute_result"
    }
   ],
   "source": [
    "tf.train.Features(feature={\"name\": tf.train.Feature(bytes_list=_bytes_feature(\"Akash Borgalli\"))})"
   ]
  },
  {
   "cell_type": "code",
   "execution_count": 44,
   "id": "cf47713a-60ec-4bd3-9e8b-90979fa631bb",
   "metadata": {},
   "outputs": [],
   "source": [
    "row_example=tf.train.Example(features=tf.train.Features(feature={\"name\": tf.train.Feature(bytes_list=_bytes_feature(\"Akash Borgalli\")),\n",
    "                                                    \"age\": tf.train.Feature(int64_list=_int64_feature(24))\n",
    "                                                    }))"
   ]
  },
  {
   "cell_type": "code",
   "execution_count": 47,
   "id": "8f366cd5-6251-49f9-b35d-2f5f61cfadd8",
   "metadata": {},
   "outputs": [
    {
     "data": {
      "text/plain": [
       "features {\n",
       "  feature {\n",
       "    key: \"age\"\n",
       "    value {\n",
       "      int64_list {\n",
       "        value: 24\n",
       "      }\n",
       "    }\n",
       "  }\n",
       "  feature {\n",
       "    key: \"name\"\n",
       "    value {\n",
       "      bytes_list {\n",
       "        value: \"Akash Borgalli\"\n",
       "      }\n",
       "    }\n",
       "  }\n",
       "}"
      ]
     },
     "execution_count": 47,
     "metadata": {},
     "output_type": "execute_result"
    }
   ],
   "source": [
    "row_example"
   ]
  },
  {
   "cell_type": "code",
   "execution_count": 49,
   "id": "2e2ae09b-718b-4790-9278-c374cd9f7920",
   "metadata": {},
   "outputs": [
    {
     "data": {
      "text/plain": [
       "b'\\n*\\n\\x0c\\n\\x03age\\x12\\x05\\x1a\\x03\\n\\x01\\x18\\n\\x1a\\n\\x04name\\x12\\x12\\n\\x10\\n\\x0eAkash Borgalli'"
      ]
     },
     "execution_count": 49,
     "metadata": {},
     "output_type": "execute_result"
    }
   ],
   "source": [
    "## To push the row it in tf_record_files\n",
    "row_example.SerializeToString()"
   ]
  },
  {
   "cell_type": "code",
   "execution_count": 57,
   "id": "9ca4600f-6783-4885-b1d3-606545e6adde",
   "metadata": {},
   "outputs": [],
   "source": [
    "with open(csv_file_path) as csv_file:\n",
    "    reader = csv.DictReader(csv_file,delimiter=\",\",quotechar='\"')\n",
    "    for row in reader:\n",
    "        ## creating a feature\n",
    "        feature={\n",
    "           \"pickup_community_area\": _bytes_feature(row['pickup_community_area']),\n",
    "            \"trip_start_month\":_int64_feature(int(row['trip_start_month'])),\n",
    "            \"fare\":_float_feature(float(row[\"fare\"]))\n",
    "           \n",
    "        }\n",
    "        break"
   ]
  },
  {
   "cell_type": "code",
   "execution_count": 58,
   "id": "49140560-9e99-4ad2-b764-01e39a5a4311",
   "metadata": {},
   "outputs": [
    {
     "data": {
      "text/plain": [
       "{'pickup_community_area': bytes_list {\n",
       "   value: \"60\"\n",
       " },\n",
       " 'trip_start_month': int64_list {\n",
       "   value: 10\n",
       " },\n",
       " 'fare': float_list {\n",
       "   value: 27.049999237060547\n",
       " }}"
      ]
     },
     "execution_count": 58,
     "metadata": {},
     "output_type": "execute_result"
    }
   ],
   "source": [
    "feature"
   ]
  },
  {
   "cell_type": "code",
   "execution_count": 60,
   "id": "f0e37566-fe9a-4ce8-b9ae-db65c50c55b5",
   "metadata": {},
   "outputs": [],
   "source": [
    "with open(csv_file_path) as csv_file:\n",
    "    reader = csv.DictReader(csv_file,delimiter=\",\",quotechar='\"')\n",
    "    for row in reader:\n",
    "        ## creating a feature\n",
    "        feature={\n",
    "           \"pickup_community_area\": _bytes_feature(row['pickup_community_area']),\n",
    "            \"trip_start_month\":_int64_feature(int(row['trip_start_month'])),\n",
    "            \"fare\":_float_feature(float(row[\"fare\"]))\n",
    "           \n",
    "        }\n",
    "        ## pass it to features\n",
    "        features = tf.train.Features(feature=feature)\n",
    "        ## now we will give to example\n",
    "        example = tf.train.Example(features=features)\n",
    "        ## push it to tfrecordfile\n",
    "        tf_record_writer.write(example.SerializeToString())\n",
    "## after writing will close the file        \n",
    "tf_record_writer.close()"
   ]
  },
  {
   "cell_type": "code",
   "execution_count": 61,
   "id": "fd30d4b8-8ae4-42ff-82f9-8485c1e92e5f",
   "metadata": {},
   "outputs": [
    {
     "data": {
      "text/plain": [
       "CsvExampleGen(spec: <tfx.types.standard_component_specs.FileBasedExampleGenSpec object at 0x000002071C6110B8>, executor_spec: <tfx.dsl.components.base.executor_spec.BeamExecutorSpec object at 0x000002071C6114A8>, driver_class: <class 'tfx.components.example_gen.driver.FileBasedDriver'>, component_id: CsvExampleGen, inputs: {}, outputs: {'examples': Channel(\n",
       "    type_name: Examples\n",
       "    artifacts: []\n",
       "    additional_properties: {}\n",
       "    additional_custom_properties: {}\n",
       ")})"
      ]
     },
     "execution_count": 61,
     "metadata": {},
     "output_type": "execute_result"
    }
   ],
   "source": [
    "from tfx.components import CsvExampleGen\n",
    "csv_example_gen = CsvExampleGen(input_base=os.path.join(os.getcwd(),\"data\"))\n",
    "csv_example_gen"
   ]
  },
  {
   "cell_type": "markdown",
   "id": "c1743c6d-ae4e-4444-a1e4-017e221d694a",
   "metadata": {},
   "source": [
    "## To create Parquet file from csv file"
   ]
  },
  {
   "cell_type": "code",
   "execution_count": 5,
   "id": "e7de06d6-8c6e-485a-a94e-1c66f8faa736",
   "metadata": {},
   "outputs": [],
   "source": [
    "import os\n",
    "import pandas as pd\n",
    "parquet_dataset_dir = os.path.join(os.getcwd(),\"parquet_dir\")\n",
    "\n",
    "os.makedirs(parquet_dataset_dir,exist_ok=True)"
   ]
  },
  {
   "cell_type": "code",
   "execution_count": 3,
   "id": "a430504e-779e-4b79-9530-8292c56f4329",
   "metadata": {},
   "outputs": [
    {
     "data": {
      "text/plain": [
       "'D:\\\\aiops_project\\\\aiops_project\\\\parquet_dir\\\\data.parquet'"
      ]
     },
     "execution_count": 3,
     "metadata": {},
     "output_type": "execute_result"
    }
   ],
   "source": [
    "parquet_file_name=\"data.parquet\"\n",
    "parquet_file_path  = os.path.join(parquet_dataset_dir,parquet_file_name)\n",
    "parquet_file_path"
   ]
  },
  {
   "cell_type": "code",
   "execution_count": 8,
   "id": "dbcb2f8b-2bb1-4e27-944e-062c51d314e3",
   "metadata": {},
   "outputs": [],
   "source": [
    "pd.read_csv(csv_file_path).to_parquet(parquet_file_path,index=None)"
   ]
  }
 ],
 "metadata": {
  "kernelspec": {
   "display_name": "Python 3 (ipykernel)",
   "language": "python",
   "name": "python3"
  },
  "language_info": {
   "codemirror_mode": {
    "name": "ipython",
    "version": 3
   },
   "file_extension": ".py",
   "mimetype": "text/x-python",
   "name": "python",
   "nbconvert_exporter": "python",
   "pygments_lexer": "ipython3",
   "version": "3.7.0"
  }
 },
 "nbformat": 4,
 "nbformat_minor": 5
}
