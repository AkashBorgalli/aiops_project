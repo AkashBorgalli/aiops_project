{
 "cells": [
  {
   "cell_type": "code",
   "execution_count": 1,
   "id": "136c2bcc-3f6e-44ca-bbdb-009b1a600ba1",
   "metadata": {},
   "outputs": [],
   "source": [
    "import os"
   ]
  },
  {
   "cell_type": "code",
   "execution_count": 2,
   "id": "e4621670-487d-46b0-a572-cdceacc621f7",
   "metadata": {},
   "outputs": [],
   "source": [
    "from pathlib import Path"
   ]
  },
  {
   "cell_type": "code",
   "execution_count": 3,
   "id": "07341eff-f012-4f86-8b52-af592829afc9",
   "metadata": {},
   "outputs": [],
   "source": [
    "workdir=str(Path(\"D:/aiops_project/aiops_project\"))"
   ]
  },
  {
   "cell_type": "code",
   "execution_count": 4,
   "id": "f9852959-6bdd-4f1e-aa0d-ca6ed5531527",
   "metadata": {},
   "outputs": [
    {
     "name": "stdout",
     "output_type": "stream",
     "text": [
      "Current directory:D:\\aiops_project\\aiops_project\\notebook\n",
      "Current directory:D:\\aiops_project\\aiops_project\n"
     ]
    }
   ],
   "source": [
    "print(f\"Current directory:{os.getcwd()}\")\n",
    "os.chdir(workdir)\n",
    "print(f\"Current directory:{os.getcwd()}\")"
   ]
  },
  {
   "cell_type": "code",
   "execution_count": 9,
   "id": "477875df-2af2-4a15-82fb-5533212b6097",
   "metadata": {},
   "outputs": [],
   "source": [
    "class Config:\n",
    "\n",
    "    def __init__(self):\n",
    "        self.work_dir=workdir\n",
    "        self.data_dir=os.path.join(\"data\")\n",
    "        self.csv_file_name=\"data.csv\"\n",
    "        self.csv_file_path=os.path.join(self.data_dir,self.csv_file_name)\n",
    "        self.pipeline_name=\"aiops_pipeline\"\n",
    "        self.pipeline_root=os.path.join(os.getcwd(),\"aiops_pipeline_artifact\")\n",
    "        self.meta_data_path=os.path.join(os.getcwd(),\"aiops_pipeline_metadata\",self.pipeline_name,\"metadata1.db\")"
   ]
  },
  {
   "cell_type": "code",
   "execution_count": 10,
   "id": "93788aed-07af-4978-a29d-b628955754ac",
   "metadata": {},
   "outputs": [],
   "source": [
    "config = Config()"
   ]
  },
  {
   "cell_type": "code",
   "execution_count": 19,
   "id": "442cbfd9-2917-4d3e-a833-0b5f0547185a",
   "metadata": {},
   "outputs": [],
   "source": [
    "import tensorflow as tf"
   ]
  },
  {
   "cell_type": "code",
   "execution_count": 20,
   "id": "3ac994cc-95ab-4113-a363-faca78cdb4d4",
   "metadata": {},
   "outputs": [],
   "source": [
    "from tfx.orchestration.experimental.interactive.interactive_context import InteractiveContext"
   ]
  },
  {
   "cell_type": "code",
   "execution_count": 21,
   "id": "8e7a4f26-1211-4e3a-9ee2-a28237d5dfdd",
   "metadata": {},
   "outputs": [],
   "source": [
    "from tfx.orchestration.metadata import mysql_metadata_connection_config"
   ]
  },
  {
   "cell_type": "code",
   "execution_count": 22,
   "id": "5e4a652d-f3be-40db-908b-7582a7d228c2",
   "metadata": {},
   "outputs": [
    {
     "ename": "SyntaxError",
     "evalue": "invalid syntax (2915655813.py, line 6)",
     "output_type": "error",
     "traceback": [
      "\u001b[1;36m  File \u001b[1;32m\"C:\\Users\\91706\\AppData\\Local\\Temp\\ipykernel_15816\\2915655813.py\"\u001b[1;36m, line \u001b[1;32m6\u001b[0m\n\u001b[1;33m    metadata_connection_config=mysql_metadata_connection_config(host: 'localhost',\u001b[0m\n\u001b[1;37m                                                                    ^\u001b[0m\n\u001b[1;31mSyntaxError\u001b[0m\u001b[1;31m:\u001b[0m invalid syntax\n"
     ]
    }
   ],
   "source": [
    "interactive_context=InteractiveContext(\n",
    "    pipeline_name=config.pipeline_name,\n",
    "    ## This pipeline root is used to generate artifacts(it is nothing but any kind of file that is generated when executing a component which gets stored in meta_Data_config)\n",
    "    ## Every Component has 3 parts: 1. Driver 2. Executor 3. Publisher\n",
    "    pipeline_root=config.pipeline_root,\n",
    "    metadata_connection_config=mysql_metadata_connection_config(host: 'localhost',\n",
    "    port: 3306,\n",
    "    database: \"metadata\",\n",
    "    username: \"root\",\n",
    "    password: \"root\")\n",
    ")"
   ]
  },
  {
   "cell_type": "markdown",
   "id": "1af1b000-ec3c-47a1-bb53-69c884397ae0",
   "metadata": {},
   "source": [
    "## Json Assignment"
   ]
  },
  {
   "cell_type": "code",
   "execution_count": 24,
   "id": "2d1d2a19-77d8-4df7-a6ed-a68f3a3c342b",
   "metadata": {},
   "outputs": [
    {
     "name": "stdout",
     "output_type": "stream",
     "text": [
      "AIOPS P.pdf\n",
      "aiops_pipeline_artifact\n",
      "aiops_pipeline_metadata\n",
      "data\n",
      "dataset_schema.txt\n",
      "exampleGen.ipynb\n",
      "feature_engineering\n",
      "json_dir\n",
      "main.py\n",
      "notebook\n",
      "parquet_dir\n",
      "README.md\n",
      "requirements.txt\n",
      "tf_record_files\n",
      "venv\n"
     ]
    }
   ],
   "source": [
    "!ls"
   ]
  },
  {
   "cell_type": "code",
   "execution_count": 25,
   "id": "f12be213-2e06-4ff9-8ff0-9eb3c20b99cf",
   "metadata": {},
   "outputs": [],
   "source": [
    "json_file_path = os.path.join(\"json_dir\",\"sample2.json\")"
   ]
  },
  {
   "cell_type": "code",
   "execution_count": 26,
   "id": "714d4c4c-7ecf-42c7-ba89-617ab897f741",
   "metadata": {},
   "outputs": [
    {
     "data": {
      "text/plain": [
       "'json_dir\\\\sample2.json'"
      ]
     },
     "execution_count": 26,
     "metadata": {},
     "output_type": "execute_result"
    }
   ],
   "source": [
    "json_file_path"
   ]
  },
  {
   "cell_type": "code",
   "execution_count": 28,
   "id": "1c2ecf6d-4d4d-4944-a149-ad4cbe2ee239",
   "metadata": {},
   "outputs": [
    {
     "data": {
      "text/plain": [
       "True"
      ]
     },
     "execution_count": 28,
     "metadata": {},
     "output_type": "execute_result"
    }
   ],
   "source": [
    "os.path.exists(json_file_path)"
   ]
  },
  {
   "cell_type": "code",
   "execution_count": 30,
   "id": "6655e69b-228b-42c4-a7b4-be667f1b9bda",
   "metadata": {},
   "outputs": [
    {
     "name": "stdout",
     "output_type": "stream",
     "text": [
      "{'firstName': 'Joe', 'lastName': 'Jackson', 'gender': 'male', 'age': 28}\n",
      "{'firstName': 'Alicia', 'lastName': 'Markow', 'gender': 'female', 'age': 24}\n"
     ]
    }
   ],
   "source": [
    "import json\n",
    " \n",
    "# Opening JSON file\n",
    "f = open(json_file_path)\n",
    " \n",
    "# returns JSON object as\n",
    "# a dictionary\n",
    "data = json.load(f)\n",
    " \n",
    "# Iterating through the json\n",
    "# list\n",
    "for i in data['employees']:\n",
    "    print(i)\n",
    " \n",
    "# Closing file\n",
    "f.close()"
   ]
  },
  {
   "cell_type": "code",
   "execution_count": 32,
   "id": "1843352e-58fc-42b4-a816-cd2b4b0d5d59",
   "metadata": {},
   "outputs": [
    {
     "data": {
      "text/plain": [
       "24"
      ]
     },
     "execution_count": 32,
     "metadata": {},
     "output_type": "execute_result"
    }
   ],
   "source": [
    "i['age']"
   ]
  },
  {
   "cell_type": "code",
   "execution_count": 33,
   "id": "41893acc-78b5-4e3d-ac83-1db60bb974af",
   "metadata": {},
   "outputs": [
    {
     "data": {
      "text/plain": [
       "'D:\\\\aiops_project\\\\aiops_project\\\\tf_record_files'"
      ]
     },
     "execution_count": 33,
     "metadata": {},
     "output_type": "execute_result"
    }
   ],
   "source": [
    "tf_record_dir = os.path.join(os.getcwd(),\"tf_record_files\")\n",
    "tf_record_dir"
   ]
  },
  {
   "cell_type": "code",
   "execution_count": 34,
   "id": "3f5a0b81-003e-4160-a198-ba9b01408362",
   "metadata": {},
   "outputs": [],
   "source": [
    "tf_record_file_name =  os.path.join(tf_record_dir,'data_json.tfrecord')"
   ]
  },
  {
   "cell_type": "code",
   "execution_count": 35,
   "id": "f61163a0-4cdb-4d88-aed4-1bc045295622",
   "metadata": {},
   "outputs": [],
   "source": [
    "tf_record_writer = tf.io.TFRecordWriter(tf_record_file_name)"
   ]
  },
  {
   "cell_type": "code",
   "execution_count": 36,
   "id": "e9334ad7-ee39-474f-ab08-4ff676e451c2",
   "metadata": {},
   "outputs": [],
   "source": [
    "def _bytes_feature(value):\n",
    "    value=value.encode()\n",
    "    return tf.train.Feature(bytes_list=tf.train.BytesList(value=[value]))\n",
    "\n",
    "def _int64_feature(value):\n",
    "    return tf.train.Feature(int64_list=tf.train.Int64List(value=[value]))\n",
    "\n",
    "def _float_feature(value):\n",
    "    return tf.train.Feature(float_list=tf.train.FloatList(value=[value]))\n"
   ]
  },
  {
   "cell_type": "code",
   "execution_count": 42,
   "id": "a5210670-02ad-4506-a713-d2aa94decd16",
   "metadata": {},
   "outputs": [
    {
     "name": "stdout",
     "output_type": "stream",
     "text": [
      "{'firstName': 'Joe', 'lastName': 'Jackson', 'gender': 'male', 'age': 28}\n",
      "{'firstName': 'Alicia', 'lastName': 'Markow', 'gender': 'female', 'age': 24}\n"
     ]
    }
   ],
   "source": [
    "f = open(json_file_path)\n",
    " \n",
    "# returns JSON object as\n",
    "# a dictionary\n",
    "data = json.load(f)\n",
    " \n",
    "# Iterating through the json\n",
    "# list\n",
    "for i in data['employees']:\n",
    "    print(i)\n",
    "    feature={\n",
    "           \"firstName\": _bytes_feature(i['firstName']),\n",
    "            \"lastName\":_bytes_feature(i['lastName']),\n",
    "            \"gender\":_bytes_feature(i['gender']),\n",
    "            \"age\":_int64_feature(int(i[\"age\"]))\n",
    "           \n",
    "        }\n",
    "        ## pass it to features\n",
    "    features = tf.train.Features(feature=feature)\n",
    "        ## now we will give to example\n",
    "    example = tf.train.Example(features=features)\n",
    "        ## push it to tfrecordfile\n",
    "    tf_record_writer.write(example.SerializeToString())\n",
    "## after writing will close the file        \n",
    "tf_record_writer.close()\n",
    "    \n",
    " \n",
    "\n",
    "f.close()"
   ]
  },
  {
   "cell_type": "code",
   "execution_count": null,
   "id": "6810f6b6-ce4b-4510-9011-37af857341a6",
   "metadata": {},
   "outputs": [],
   "source": [
    "feature={\n",
    "           \"pickup_community_area\": _bytes_feature(row['pickup_community_area']),\n",
    "            \"trip_start_month\":_int64_feature(int(row['trip_start_month'])),\n",
    "            \"fare\":_float_feature(float(row[\"fare\"]))\n",
    "           \n",
    "        }\n",
    "        ## pass it to features\n",
    "        features = tf.train.Features(feature=feature)\n",
    "        ## now we will give to example\n",
    "        example = tf.train.Example(features=features)\n",
    "        ## push it to tfrecordfile\n",
    "        tf_record_writer.write(example.SerializeToString())\n",
    "## after writing will close the file        \n",
    "tf_record_writer.close()"
   ]
  }
 ],
 "metadata": {
  "kernelspec": {
   "display_name": "Python 3 (ipykernel)",
   "language": "python",
   "name": "python3"
  },
  "language_info": {
   "codemirror_mode": {
    "name": "ipython",
    "version": 3
   },
   "file_extension": ".py",
   "mimetype": "text/x-python",
   "name": "python",
   "nbconvert_exporter": "python",
   "pygments_lexer": "ipython3",
   "version": "3.7.0"
  }
 },
 "nbformat": 4,
 "nbformat_minor": 5
}
